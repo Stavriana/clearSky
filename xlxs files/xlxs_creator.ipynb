{
  "nbformat": 4,
  "nbformat_minor": 0,
  "metadata": {
    "colab": {
      "provenance": []
    },
    "kernelspec": {
      "name": "python3",
      "display_name": "Python 3"
    },
    "language_info": {
      "name": "python"
    }
  },
  "cells": [
    {
      "cell_type": "code",
      "execution_count": 8,
      "metadata": {
        "colab": {
          "base_uri": "https://localhost:8080/",
          "height": 72
        },
        "id": "34QVXciqP91t",
        "outputId": "2cd7d8c4-c046-4238-c791-3656d91fe4dd"
      },
      "outputs": [
        {
          "output_type": "stream",
          "name": "stdout",
          "text": [
            "Requirement already satisfied: faker in /usr/local/lib/python3.11/dist-packages (37.4.0)\n",
            "Requirement already satisfied: tzdata in /usr/local/lib/python3.11/dist-packages (from faker) (2025.2)\n"
          ]
        },
        {
          "output_type": "display_data",
          "data": {
            "text/plain": [
              "<IPython.core.display.Javascript object>"
            ],
            "application/javascript": [
              "\n",
              "    async function download(id, filename, size) {\n",
              "      if (!google.colab.kernel.accessAllowed) {\n",
              "        return;\n",
              "      }\n",
              "      const div = document.createElement('div');\n",
              "      const label = document.createElement('label');\n",
              "      label.textContent = `Downloading \"${filename}\": `;\n",
              "      div.appendChild(label);\n",
              "      const progress = document.createElement('progress');\n",
              "      progress.max = size;\n",
              "      div.appendChild(progress);\n",
              "      document.body.appendChild(div);\n",
              "\n",
              "      const buffers = [];\n",
              "      let downloaded = 0;\n",
              "\n",
              "      const channel = await google.colab.kernel.comms.open(id);\n",
              "      // Send a message to notify the kernel that we're ready.\n",
              "      channel.send({})\n",
              "\n",
              "      for await (const message of channel.messages) {\n",
              "        // Send a message to notify the kernel that we're ready.\n",
              "        channel.send({})\n",
              "        if (message.buffers) {\n",
              "          for (const buffer of message.buffers) {\n",
              "            buffers.push(buffer);\n",
              "            downloaded += buffer.byteLength;\n",
              "            progress.value = downloaded;\n",
              "          }\n",
              "        }\n",
              "      }\n",
              "      const blob = new Blob(buffers, {type: 'application/binary'});\n",
              "      const a = document.createElement('a');\n",
              "      a.href = window.URL.createObjectURL(blob);\n",
              "      a.download = filename;\n",
              "      div.appendChild(a);\n",
              "      a.click();\n",
              "      div.remove();\n",
              "    }\n",
              "  "
            ]
          },
          "metadata": {}
        },
        {
          "output_type": "display_data",
          "data": {
            "text/plain": [
              "<IPython.core.display.Javascript object>"
            ],
            "application/javascript": [
              "download(\"download_a506238b-afeb-4f8c-8cba-e86a123322ec\", \"clearSKY SaaS 3206 data (102).xlsx\", 10784)"
            ]
          },
          "metadata": {}
        }
      ],
      "source": [
        "!pip install faker\n",
        "import pandas as pd\n",
        "import numpy as np\n",
        "from faker import Faker\n",
        "\n",
        "# Initialize Faker for fake data\n",
        "fake = Faker('el_GR')  # Greek locale\n",
        "\n",
        "# Create the header rows\n",
        "header1 = [\"ΒΑΘΜΟΛΟΓΙΟ ΤΕΧΝΟΛΟΓΙΕΣ ΥΠΗΡΕΣΙΩΝ ΛΟΓΙΣΜΙΚΟΥ (3206) 2023-2024 ΕΑΡΙΝΗ\"] + [\"\"]*7 + [f\"W{i:02d}\" for i in range(1,11)]\n",
        "header2 = [\"\"]*8 + [5, 40, 5, 5, 5, 5, 20, 5, 5, 5]\n",
        "columns = [\"Αριθμός Μητρώου\", \"Ονοματεπώνυμο\", \"Ακαδημαϊκό E-mail\", \"Περίοδος δήλωσης\",\n",
        "           \"Τμήμα Τάξης\", \"Κλίμακα βαθμολόγησης\", \"Βαθμολογία\", \"\"] + [f\"Q{i:02d}\" for i in range(1,11)]\n",
        "\n",
        "# Generate student data\n",
        "num_students = 50\n",
        "data = []\n",
        "\n",
        "for _ in range(num_students):\n",
        "    student_id = str(np.random.randint(30000000, 32000000))\n",
        "    name = fake.name()\n",
        "    email = f\"el{student_id[-5:]}@mail.ntua.gr\"\n",
        "    period = \"2023-2024 ΕΑΡΙΝΟ 2024\"\n",
        "    department = \"ΤΕΧΝΟΛΟΓΙΕΣ ΥΠΗΡΕΣΙΩΝ ΛΟΓΙΣΜΙΚΟΥ (3206)\"\n",
        "    scale = \"0-10\"\n",
        "    grade = np.random.randint(2, 10)\n",
        "    q_scores = [np.random.randint(0, 11) for _ in range(10)]\n",
        "\n",
        "    data.append([student_id, name, email, period, department, scale, grade, \"\"] + q_scores)\n",
        "\n",
        "# Create DataFrame\n",
        "df = pd.DataFrame(data, columns=columns)\n",
        "\n",
        "# Create Excel writer\n",
        "with pd.ExcelWriter(\"clearSKY SaaS 3206 data (102).xlsx\", engine='openpyxl') as writer:\n",
        "    # Write header rows\n",
        "    pd.DataFrame([header1]).to_excel(writer, sheet_name='Sheet1', index=False, header=False)\n",
        "    pd.DataFrame([header2]).to_excel(writer, sheet_name='Sheet1', index=False, header=False, startrow=1)\n",
        "    # Write column headers and data\n",
        "    df.to_excel(writer, sheet_name='Sheet1', index=False, startrow=2)\n",
        "\n",
        "# Download the file\n",
        "from google.colab import files\n",
        "files.download(\"clearSKY SaaS 3206 data (102).xlsx\")"
      ]
    }
  ]
}